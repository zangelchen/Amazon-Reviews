{
 "cells": [
  {
   "cell_type": "code",
   "execution_count": null,
   "id": "1a5dc35d",
   "metadata": {},
   "outputs": [],
   "source": [
    "import os\n",
    "import pandas as pd\n",
    "import numpy as np\n",
    "import matplotlib.pyplot as plt\n",
    "import scipy.stats as stats\n",
    "import json"
   ]
  },
  {
   "cell_type": "code",
   "execution_count": null,
   "id": "630e77ef",
   "metadata": {},
   "outputs": [],
   "source": [
    "music_list=[]\n",
    "filepath_music = os.path.join(\"Digital_Music_5.json\")\n",
    "with open(filepath_music) as jsonfile:\n",
    "    for line in jsonfile: \n",
    "        music_json=json.loads(line)\n",
    "        music_list.append(music_json)\n",
    "        \n",
    "music_df = pd.DataFrame(music_list)\n",
    "music_df  "
   ]
  },
  {
   "cell_type": "code",
   "execution_count": null,
   "id": "855a3524",
   "metadata": {},
   "outputs": [],
   "source": [
    "meta_music=[]\n",
    "i=0\n",
    "filepath_metamusic = os.path.join(\"meta_Digital_Music.json\")\n",
    "with open(filepath_metamusic) as jsonfile:\n",
    "    for line in jsonfile: \n",
    "        i+=1\n",
    "        try: \n",
    "            music_json=json.loads(line)\n",
    "            meta_music.append(music_json)\n",
    "        except: \n",
    "            print(i)\n",
    "            continue       \n",
    "            \n",
    "metamusic_df = pd.DataFrame(meta_music)\n",
    "metamusic_df"
   ]
  },
  {
   "cell_type": "code",
   "execution_count": null,
   "id": "72e32a9a",
   "metadata": {},
   "outputs": [],
   "source": [
    "cd_list=[]\n",
    "filepath_cd = os.path.join(\"CDs_and_Vinyl_5.json\")\n",
    "with open(filepath_cd) as jsonfile:\n",
    "    for line in jsonfile: \n",
    "        cd_json=json.loads(line)\n",
    "        cd_list.append(cd_json)\n",
    "        \n",
    "cd_df = pd.DataFrame(music_list)\n",
    "cd_df"
   ]
  },
  {
   "cell_type": "code",
   "execution_count": null,
   "id": "93ce85fe",
   "metadata": {},
   "outputs": [],
   "source": [
    "meta_cd=[]\n",
    "i=0\n",
    "filepath_metacd = os.path.join(\"meta_CDs_and_Vinyl.json\")\n",
    "with open(filepath_metacd) as jsonfile:\n",
    "    for line in jsonfile: \n",
    "        i+=1\n",
    "        try: \n",
    "            cd_json=json.loads(line)\n",
    "            meta_cd.append(cd_json)\n",
    "        except: \n",
    "            print(i)\n",
    "            continue       \n",
    "            \n",
    "metacd_df = pd.DataFrame(meta_music)\n",
    "metacd_df"
   ]
  },
  {
   "cell_type": "code",
   "execution_count": null,
   "id": "ba5f66aa",
   "metadata": {},
   "outputs": [],
   "source": []
  },
  {
   "cell_type": "code",
   "execution_count": null,
   "id": "263b3981",
   "metadata": {},
   "outputs": [],
   "source": []
  },
  {
   "cell_type": "code",
   "execution_count": null,
   "id": "0fef0009",
   "metadata": {},
   "outputs": [],
   "source": []
  }
 ],
 "metadata": {
  "kernelspec": {
   "display_name": "Python 3 (ipykernel)",
   "language": "python",
   "name": "python3"
  },
  "language_info": {
   "codemirror_mode": {
    "name": "ipython",
    "version": 3
   },
   "file_extension": ".py",
   "mimetype": "text/x-python",
   "name": "python",
   "nbconvert_exporter": "python",
   "pygments_lexer": "ipython3",
   "version": "3.9.13"
  }
 },
 "nbformat": 4,
 "nbformat_minor": 5
}
