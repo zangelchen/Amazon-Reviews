{
 "cells": [
  {
   "cell_type": "code",
   "execution_count": null,
   "id": "1a5dc35d",
   "metadata": {},
   "outputs": [],
   "source": [
    "import os\n",
    "import pandas as pd\n",
    "import numpy as np\n",
    "import matplotlib.pyplot as plt\n",
    "import scipy.stats as stats\n",
    "import json\n",
    "dsd"
   ]
  },
  {
   "cell_type": "code",
   "execution_count": null,
   "id": "630e77ef",
   "metadata": {},
   "outputs": [],
   "source": [
    "music_list=[]\n",
    "filepath_music = os.path.join(\"Digital_Music_5.json\")\n",
    "with open(filepath_music) as jsonfile:\n",
    "    for line in jsonfile: \n",
    "        music_json=json.loads(line)\n",
    "        music_list.append(music_json)\n",
    "        \n",
    "music_df = pd.DataFrame(music_list)\n",
    "music_df  "
   ]
  },
  {
   "cell_type": "code",
   "execution_count": null,
   "id": "855a3524",
   "metadata": {},
   "outputs": [],
   "source": [
    "meta_music=[]\n",
    "i=0\n",
    "filepath_metamusic = os.path.join(\"meta_Digital_Music.json\")\n",
    "with open(filepath_metamusic) as jsonfile:\n",
    "    for line in jsonfile: \n",
    "        i+=1\n",
    "        try: \n",
    "            music_json=json.loads(line)\n",
    "            meta_music.append(music_json)\n",
    "        except: \n",
    "            print(i)\n",
    "            continue       \n",
    "            \n",
    "metamusic_df = pd.DataFrame(meta_music)\n",
    "metamusic_df"
   ]
  },
  {
   "cell_type": "code",
   "execution_count": null,
   "id": "72e32a9a",
   "metadata": {},
   "outputs": [],
   "source": [
    "cd_list=[]\n",
    "filepath_cd = os.path.join(\"CDs_and_Vinyl_5.json\")\n",
    "with open(filepath_cd) as jsonfile:\n",
    "    for line in jsonfile: \n",
    "        cd_json=json.loads(line)\n",
    "        cd_list.append(cd_json)\n",
    "        \n",
    "cd_df = pd.DataFrame(music_list)\n",
    "cd_df"
   ]
  },
  {
   "cell_type": "code",
   "execution_count": null,
   "id": "93ce85fe",
   "metadata": {},
   "outputs": [],
   "source": [
    "meta_cd=[]\n",
    "i=0\n",
    "filepath_metacd = os.path.join(\"meta_CDs_and_Vinyl.json\")\n",
    "with open(filepath_metacd) as jsonfile:\n",
    "    for line in jsonfile: \n",
    "        i+=1\n",
    "        try: \n",
    "            cd_json=json.loads(line)\n",
    "            meta_cd.append(cd_json)\n",
    "        except: \n",
    "            print(i)\n",
    "            continue       \n",
    "            \n",
    "metacd_df = pd.DataFrame(meta_music)\n",
    "metacd_df"
   ]
  },
  {
   "cell_type": "code",
   "execution_count": null,
   "id": "ba5f66aa",
   "metadata": {},
   "outputs": [],
   "source": [
    "merging_dig_df = pd.merge(metamusic_df, music_df, on=\"asin\", how=\"outer\")\n",
    "merging_dig_df = merging_dig_df.dropna(subset=['overall'])\n",
    "pd.options.display.max_columns = None\n",
    "merging_dig_df"
   ]
  },
  {
   "cell_type": "code",
   "execution_count": null,
   "id": "263b3981",
   "metadata": {},
   "outputs": [],
   "source": [
    "merging_cd_df = pd.merge(metacd_df, cd_df, on=\"asin\", how=\"outer\")\n",
    "merging_cd_df = merging_cd_df.dropna(subset=['overall'])\n",
    "pd.options.display.max_columns = None\n",
    "merging_cd_df"
   ]
  },
  {
   "cell_type": "code",
   "execution_count": null,
   "id": "0fef0009",
   "metadata": {},
   "outputs": [],
   "source": [
    "cd_groupby = merging_dig_df.groupby('overall').count()['asin']\n",
    "labels = ['1', '2', '3', '4', '5']\n",
    "explode = (0,0,0,0,0)\n",
    "colors = [\"orange\", \"blue\", \"red\", \"yellow\", \"green\"]\n",
    "plt.pie(cd_groupby, explode=explode, labels=labels, colors=colors, autopct=\"%1.1f%%\", startangle=180)\n",
    "plt.title('Digital Music Overall Rating (0-5)')\n",
    "plt.show"
   ]
  },
  {
   "cell_type": "code",
   "execution_count": null,
   "id": "5fd267d2",
   "metadata": {},
   "outputs": [],
   "source": [
    "cd_groupby = merging_cd_df.groupby('overall').count()['asin']\n",
    "labels = ['1', '2', '3', '4', '5']\n",
    "explode = (0,0,0,0,0)\n",
    "colors = [\"orange\", \"blue\", \"red\", \"yellow\", \"green\"]\n",
    "plt.pie(cd_groupby, explode=explode, labels=labels, colors=colors, autopct=\"%1.1f%%\", startangle=180)\n",
    "plt.title('CD & Vinyl Overall Rating (0-5)')\n",
    "plt.show"
   ]
  },
  {
   "cell_type": "code",
   "execution_count": null,
   "id": "42ec9d7f",
   "metadata": {},
   "outputs": [],
   "source": [
    "dig_rating = merging_dig_df['overall']\n",
    "dig_quartiles = dig_rating.quantile([0.25,0.5,0.75])\n",
    "dig_lq = dig_quartiles[0.25]\n",
    "dig_medq = dig_quartiles[.5]\n",
    "dig_uq = dig_quartiles[0.75]\n",
    "dig_iqr = dig_uq - dig_lq\n",
    "print('Digital Music overall ratings')\n",
    "print(f'The lower quartile of occupancy is: {dig_lq}')\n",
    "print(f'The upper quartile of occupancy is: {dig_uq}')\n",
    "print(f'The interquartile range of occupancy is: {dig_iqr}')\n",
    "print(f'The median of occupancy is: {dig_medq}')\n",
    "dig_lowerbound = dig_lq - 1.5*dig_iqr\n",
    "dig_upperbound = dig_uq + 1.5*dig_iqr\n",
    "print(f'Lower Bound: {dig_lowerbound}')\n",
    "print(f'Upper Bound: {dig_upperbound}')\n",
    "print(f'Values below {dig_lowerbound} could be outliers.')\n",
    "print(f'Values above {dig_upperbound} could be outliers.')"
   ]
  },
  {
   "cell_type": "code",
   "execution_count": null,
   "id": "596b867e",
   "metadata": {},
   "outputs": [],
   "source": [
    "cd_rating = merging_cd_df['overall']\n",
    "cd_quartiles = cd_rating.quantile([0.25,0.5,0.75])\n",
    "cd_lq = cd_quartiles[0.25]\n",
    "cd_medq = cd_quartiles[.5]\n",
    "cd_uq = cd_quartiles[0.75]\n",
    "cd_iqr = cd_uq - cd_lq\n",
    "print('CD & vinyl overall ratings')\n",
    "print(f'The lower quartile of occupancy is: {cd_lq}')\n",
    "print(f'The upper quartile of occupancy is: {cd_uq}')\n",
    "print(f'The interquartile range of occupancy is: {cd_iqr}')\n",
    "print(f'The median of occupancy is: {cd_medq}')\n",
    "cd_lowerbound = cd_lq - 1.5*cd_iqr\n",
    "cd_upperbound = cd_uq + 1.5*cd_iqr\n",
    "print(f'Lower Bound: {cd_lowerbound}')\n",
    "print(f'Upper Bound: {cd_upperbound}')\n",
    "print(f'Values below {cd_lowerbound} could be outliers.')\n",
    "print(f'Values above {cd_upperbound} could be outliers.')"
   ]
  },
  {
   "cell_type": "code",
   "execution_count": null,
   "id": "1dc04d4e",
   "metadata": {},
   "outputs": [],
   "source": [
    "box_plot = [cd_rating, dig_rating]\n",
    "\n",
    "fig1, ax1 = plt.subplots()\n",
    "ax1.set_title('Ratings by Music Product')\n",
    "ax1.set_xlabel('Music Product')\n",
    "ax1.set_ylabel('Rating')\n",
    "\n",
    "ax1.boxplot(box_plot, labels=[\"CD & Vinyl\",\"Digital Music\"])\n",
    "plt.show()"
   ]
  },
  {
   "cell_type": "code",
   "execution_count": null,
   "id": "05d23a98",
   "metadata": {},
   "outputs": [],
   "source": [
    "cd_popularity = merging_cd_df.groupby([\"asin\"])['asin'].count()\n",
    "groupby_cd_rating = merging_cd_df.groupby(['asin'])['overall'].mean()\n",
    "plt.scatter(cd_popularity, groupby_cd_rating, color = \"blue\")\n",
    "plt.xlabel(\"Reviews Count\")\n",
    "plt.ylabel(\"Rating\")\n",
    "plt.title(\"Reviews Count vs Avg. Rating\")\n",
    "plt.show()"
   ]
  },
  {
   "cell_type": "code",
   "execution_count": null,
   "id": "d5e4f3e0",
   "metadata": {},
   "outputs": [],
   "source": [
    "dig_popularity = merging_dig_df.groupby([\"asin\"])['asin'].count()\n",
    "groupby_dig_rating = merging_dig_df.groupby(['asin'])['overall'].mean()\n",
    "plt.scatter(cd_popularity, groupby_cd_rating, color = \"blue\")\n",
    "plt.xlabel(\"Reviews Count\")\n",
    "plt.ylabel(\"Rating\")\n",
    "plt.title(\"Reviews Count vs Avg. Rating\")\n",
    "plt.show()"
   ]
  },
  {
   "cell_type": "code",
   "execution_count": null,
   "id": "e436f3e4",
   "metadata": {},
   "outputs": [],
   "source": [
    "print(f\"The correlation coefficient between Reviews Count of Album and its Avg. rating is {round(st.pearsonr(cd_popularity, groupby_cd_rating)[0],2)}\")"
   ]
  }
 ],
 "metadata": {
  "kernelspec": {
   "display_name": "Python 3 (ipykernel)",
   "language": "python",
   "name": "python3"
  },
  "language_info": {
   "codemirror_mode": {
    "name": "ipython",
    "version": 3
   },
   "file_extension": ".py",
   "mimetype": "text/x-python",
   "name": "python",
   "nbconvert_exporter": "python",
   "pygments_lexer": "ipython3",
   "version": "3.9.13"
  }
 },
 "nbformat": 4,
 "nbformat_minor": 5
}
